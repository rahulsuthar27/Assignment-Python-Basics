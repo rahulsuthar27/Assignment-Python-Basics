{
  "nbformat": 4,
  "nbformat_minor": 0,
  "metadata": {
    "colab": {
      "provenance": []
    },
    "kernelspec": {
      "name": "python3",
      "display_name": "Python 3"
    },
    "language_info": {
      "name": "python"
    }
  },
  "cells": [
    {
      "cell_type": "markdown",
      "source": [
        "1.What is Python, and why is it popular?\n",
        "\n",
        "ans->Python is a high-level, interpreted programming language that emphasizes readability and simplicity in its syntax. It was created by Guido van Rossum and released in 1991. Python is an open-source language, and it is known for being highly readable and easy to learn, making it popular for both beginners and experienced programmers.\n",
        "\n",
        "\n",
        "\n",
        "1.Easy to Learn and Use:\n",
        "\n",
        "Python's syntax is simple and intuitive, which makes it an excellent choice for beginners. The language's structure emphasizes readability, and its use of indentation rather than braces or keywords to define code blocks makes it easy to write and understand\n",
        "\n",
        "2.Versatility and Flexibility:\n",
        "\n",
        "Python is a general-purpose language that can be used for a wide range of applications, from web development to data analysis, artificial intelligence (AI), scientific computing, automation, and more. It also has a strong ecosystem of libraries and frameworks that extend its capabilities."
      ],
      "metadata": {
        "id": "tjWoBkc9aPpf"
      }
    },
    {
      "cell_type": "markdown",
      "source": [
        "2.What is an interpreter in Python?\n",
        "\n",
        " ans-> the intepreter in a python is program tha reads and executes the code line by line,\n",
        " converting it to machine readable instruction for the computer.\n",
        "Key Points about the Python Interpreter:\n",
        "Line-by-Line Execution: The interpreter executes code one line at a time, making it easier to debug since errors are caught immediately upon execution.\n",
        "Dynamic Nature: Python doesn't require a compilation step. The interpreter handles code execution directly, which speeds up the development process.\n",
        "Interactive Environment: Python interpreters provide an interactive mode (accessed by typing python or python3 in the terminal), where developers can write and execute Python commands in real-time.\n",
        "Portability: The Python interpreter works across platforms (Windows, macOS, Linux), enabling Python code to run on different systems without modification."
      ],
      "metadata": {
        "id": "A_QFdylomVMS"
      }
    },
    {
      "cell_type": "markdown",
      "source": [
        "3.What are pre-defined keywords in Python?\n",
        "\n",
        "\n",
        "ans-> In Python, pre-defined keywords are reserved words that have specific meanings and purposes within the language. These keywords cannot be used as identifiers (e.g., variable names, function names) because they are integral to Python's syntax and functionality.\n",
        "Characteristics of Python Keywords:\n",
        "Predefined: Their meaning is fixed in the Python interpreter.\n",
        "Case-Sensitive: All keywords must be written in lowercase (except for True, False, and None which start with an uppercase letter)."
      ],
      "metadata": {
        "id": "418riFSpmQP_"
      }
    },
    {
      "cell_type": "markdown",
      "source": [
        "4.Can keywords be used as variable names?\n",
        "\n",
        "ans->No, keywords cannot be used as variable names in Python. Keywords are reserved words that are part of the Python syntax, and their meaning is predefined by the language. Using them as variable names would cause a syntax error, as it would conflict with their intended purpose.  "
      ],
      "metadata": {
        "id": "Cmzy31eRxEMh"
      }
    },
    {
      "cell_type": "markdown",
      "source": [
        "5.What is mutability in Python?\n",
        "\n",
        "ans->Mutability in Python refers to an object's ability to be changed (or modified) after it has been created. Based on this characteristic, Python objects are classified into two categories: mutable and immutable.\n",
        "\n",
        "1.Mutable Objects\n",
        "These objects can be modified after creation. You can change their content, add or remove elements, or modify existing ones without changing the object's identity (its memory address remains the same).\n",
        "\n",
        "-Examples of mutable objects:\n",
        "\n",
        "->List\n",
        "\n",
        "->Sets\n",
        "\n",
        "->dictionary\n",
        "\n",
        "2.Immutable Objects\n",
        "These objects cannot be modified after creation. If you attempt to make changes, a new object will be created, leaving the original object unaltered.\n",
        "\n",
        "-Examples of immutable objects:\n",
        "\n",
        "->Strings\n",
        "\n",
        "->Tuples\n",
        "\n",
        "->Integers\n",
        "\n",
        "->Floats\n",
        "\n",
        "->Booleans"
      ],
      "metadata": {
        "id": "2sB5FIoDrJxS"
      }
    },
    {
      "cell_type": "markdown",
      "source": [
        "6.Why are lists mutable, but tuples are immutable?\n",
        "\n",
        "ans->Lists: Mutable by Design\n",
        "Purpose: Lists are designed for flexibility and dynamic operations, where elements may need to be added, removed, or modified frequently.\n",
        "Implementation: Python allows modifications to the elements of a list in-place without creating a new object. This is achieved by allocating extra memory for lists, enabling dynamic resizing.\n",
        "\n",
        "->Tuples: Immutable by Design\n",
        "Purpose: Tuples are designed for fixed, unchangeable data structures. They are often used for data that should not be modified after creation, ensuring data integrity.\n",
        "Implementation: Tuples store their elements in a fixed memory structure, which avoids the overhead of dynamic resizing. This makes tuples more memory-efficient and faster to access than lists.\n",
        "\n"
      ],
      "metadata": {
        "id": "ZKsBjLRGrN_g"
      }
    },
    {
      "cell_type": "markdown",
      "source": [
        "7.What is the difference between “==” and “is” operators in Python?\n",
        "\n",
        "ans-> == (Equality Operator)\n",
        "Purpose: Compares the values of two objects to check if they are equal.\n",
        "\n",
        "Behavior: It evaluates whether the data or content of the objects is the same, regardless of whether they are stored at the same memory location.\n",
        "\n",
        "-> is (Identity Operator)\n",
        "Purpose: Compares the identities of two objects to check if they refer to the same object in memory.\n",
        "\n",
        "Behavior: It evaluates whether two variables point to the exact same memory location (i.e., they are the same object).\n",
        "\n"
      ],
      "metadata": {
        "id": "-mikmB5LrIbw"
      }
    },
    {
      "cell_type": "markdown",
      "source": [
        "8.What are logical operators in Python?\n",
        "\n",
        "answ->.Logical operators in Python are used to combine conditional statements and perform logical operations. They return True or False based on the logic they evaluate.\n",
        "\n",
        "logical operator type.\n",
        "\n",
        "-> and=return true if both values are true,othewise return no.\n",
        "\n",
        "-> or=return true if atleast one operator are right.\n",
        "\n",
        "-> not=reverse the result of condition(negation)"
      ],
      "metadata": {
        "id": "DlQGRReT0TR5"
      }
    },
    {
      "cell_type": "markdown",
      "source": [
        "9.What is type casting in Python?\n",
        "\n",
        "\n",
        "ans->Type casting in Python refers to the process of converting a variable from one data type to another. Python provides built-in functions to perform type casting, enabling developers to change the type of an object to suit specific operations or requirements.\n",
        "\n",
        "->type of type castings.\n",
        "\n",
        "\n",
        "1.Implicit Type Casting\n",
        "\n",
        "Python automatically converts one data type to another when it is safe to do so.\n",
        "Happens without any explicit instruction from the programmer.\n",
        "Example: Converting an integer to a float during arithmetic operations.List item\n",
        "   \n",
        "2.Explicit Type Casting\n",
        "\n",
        "Performed manually by the programmer using Python's built-in functions.\n",
        "Useful when you need to forcefully convert one data type to another.\n",
        "Can lead to data loss if the types are incompatible.\n",
        "\n",
        "Built-in functions for type casting:\n",
        "\n",
        "int(): Converts to integer\n",
        "\n",
        "float(): Converts to float\n",
        "\n",
        "str(): Converts to string\n",
        "\n",
        "bool(): Converts to boolean\n",
        "\n",
        "list():\n",
        "\n",
        "tuple()\n",
        "\n",
        "set():Convert to respective collections.\n",
        "\n",
        "\n"
      ],
      "metadata": {
        "id": "g7jPujf30Nsw"
      }
    },
    {
      "cell_type": "markdown",
      "source": [
        "10.What is the difference between implicit and explicit type casting?\n",
        "\n",
        "answ->The difference between implicit and explicit type casting in Python lies in how and when the conversion between data types happens, and who controls the process.\n",
        "\n",
        "1.Implicit Type Casting (Automatic Type Conversion)\n",
        "\n",
        "->Definition: Implicit type casting is the automatic conversion of one data type to another by Python. This happens automatically when Python detects that the conversion is safe and necessary for the operation to proceed.\n",
        "\n",
        "->Control: The Python interpreter handles the conversion without any explicit instruction from the programmer.\n",
        "\n",
        "When it happens: Usually occurs when performing operations between compatible types, like adding an integer and a float.\n",
        "Explicit Type Casting\n",
        "\n",
        "2.explicipt tpe casting Performed manually by the programmer using Python's built-in functions.\n",
        "Useful when you need to forcefully convert one data type to another.\n",
        "Can lead to data loss if the types are incompatible."
      ],
      "metadata": {
        "id": "rI5_aQRc0N-Z"
      }
    },
    {
      "cell_type": "markdown",
      "source": [
        "11.What is the purpose of conditional statements in Python?\n",
        "\n",
        "Conditional statements in Python allow you to execute specific blocks of code based on certain conditions. They are fundamental for controlling the flow of your program and enabling decision-making processes. The purpose of conditional statements is to:\n",
        "\n",
        "1.Make Decisions: Conditional statements help your program choose between different actions depending on whether a condition is True or False.\n",
        "\n",
        "2.Control Program Flow: By using conditions, you can dictate how the program behaves under different circumstances.\n",
        "\n",
        "3.Handle Different Scenarios: They allow your program to respond to various inputs, user actions, or environmental conditions in a dynamic way.\n",
        "\n",
        "T->ypes of Conditional Statements in Python\n",
        "\n",
        "Python provides several ways to write conditional statements:\n",
        "\n",
        "->if Statement:\n",
        "\n",
        "The simplest form of a conditional statement, which runs a block of code if the condition is True.\n",
        "\n",
        "->else Statement\n",
        "\n",
        "The else block runs if the condition in the if statement is False\n",
        "\n",
        "->elif (Else if) Statement\n",
        "\n",
        "The elif allows checking multiple conditions. It runs the block of code corresponding to the first True condition.\n",
        "\n",
        "->Nested if Statements\n",
        "\n",
        "You can place one if statement inside another to check multiple conditions at different levels.\n",
        "\n",
        "this is ak type of conditional statements in p."
      ],
      "metadata": {
        "id": "w5wJ63jL0OAr"
      }
    },
    {
      "cell_type": "markdown",
      "source": [
        "12.How does the elif statement work?\n",
        "\n",
        "ans->The elif (short for \"else if\") statement in Python is used to check multiple conditions in sequence. It follows an initial if statement and allows you to test additional conditions if the previous if or elif conditions were not True.\n",
        "\n",
        "How elif Works\n",
        "\n",
        "1.First, Python checks the if condition: If it evaluates to True, the corresponding block of code is executed, and the rest of the elif or else statements are skipped.\n",
        "\n",
        "2.If the if condition is False, Python checks each elif condition in order: Python goes through each elif condition one by one until it finds one that evaluates to True.\n",
        "\n",
        "3.If none of the if or elif conditions are True, the else block (if provided) is executed: This is the fallback block that runs when all the conditions fail."
      ],
      "metadata": {
        "id": "er7xAROp0OCy"
      }
    },
    {
      "cell_type": "markdown",
      "source": [
        "13.What is the difference between for and while loops?\n",
        "\n",
        "ans->The for loop and the while loop in Python are both used to repeat a block of code, but they differ in how they control the flow of execution and the conditions under which the loop continues.\n",
        "\n",
        "1.for Loop\n",
        "Purpose: The for loop is used when you know beforehand how many times you want to iterate over a sequence (like a list, tuple, string, or range) or an iterable object.\n",
        "\n",
        "syntax: for loop\n",
        "\n",
        "-for variable in iterable\n",
        "\n",
        "The loop iterates over each element in the iterable, and the variable takes the value of each element one by one.\n",
        "Common Use: Iterating over a sequence or range of values.\n",
        "\n",
        "2.while Loop\n",
        "Purpose: The while loop is used when you want to repeat a block of code an indefinite number of times, as long as a certain condition is True.\n",
        "\n",
        "Syntax:\n",
        "while condition\n",
        "\n",
        "execute\n"
      ],
      "metadata": {
        "id": "xZ1rvZyK0OGB"
      }
    },
    {
      "cell_type": "markdown",
      "source": [
        "14.Describe a scenario where a while loop is more suitable than a for loop?\n",
        "\n",
        "answ->A while loop is more suitable than a for loop when you don't know the exact number of iterations in advance, and the loop should continue based on a dynamic condition. The while loop is ideal for situations where you want to repeat actions until a certain condition is met or until an external factor changes.\n",
        "\n",
        "Scenario Example: User Authentication\n",
        "Imagine you're building a program that asks a user for their password until they enter the correct one. The number of attempts the user might need is not known beforehand, and the loop should continue running as long as the user hasn't entered the correct password."
      ],
      "metadata": {
        "id": "TiLJ54ME7UTt"
      }
    },
    {
      "cell_type": "markdown",
      "source": [],
      "metadata": {
        "id": "Rz3UuVrJSbyD"
      }
    },
    {
      "cell_type": "code",
      "source": [
        "#practicle questionss\n",
        "#1.Write a Python program to print \"Hello, World!\"\n",
        "a=\"hello, world!\"\n",
        "print(a)\n"
      ],
      "metadata": {
        "colab": {
          "base_uri": "https://localhost:8080/"
        },
        "id": "snpdeS9WSg_T",
        "outputId": "4d35d3dc-98ba-48a5-ae8a-9953190b9e6b"
      },
      "execution_count": null,
      "outputs": [
        {
          "output_type": "stream",
          "name": "stdout",
          "text": [
            "hello, world!\n"
          ]
        }
      ]
    },
    {
      "cell_type": "code",
      "source": [
        "#2.Write a Python program that displays your name and age.\n",
        "name=\"rahul suthar\"\n",
        "age=22\n",
        "print(\"name:\",name)\n",
        "print(\"age:\",age)"
      ],
      "metadata": {
        "colab": {
          "base_uri": "https://localhost:8080/"
        },
        "id": "DmME5RAETiIh",
        "outputId": "e51b0746-2ce4-4e47-f806-2f03c24507e6"
      },
      "execution_count": null,
      "outputs": [
        {
          "output_type": "stream",
          "name": "stdout",
          "text": [
            "name: rahul suthar\n",
            "age: 22\n"
          ]
        }
      ]
    },
    {
      "cell_type": "code",
      "source": [
        "# 3.Write code to print all the pre-defined keywords in Python using the keyword\n",
        "print(help(\"keywords\"))"
      ],
      "metadata": {
        "colab": {
          "base_uri": "https://localhost:8080/"
        },
        "id": "7hTEvT7SUILY",
        "outputId": "29952449-7299-4275-925b-8cd221305127"
      },
      "execution_count": null,
      "outputs": [
        {
          "output_type": "stream",
          "name": "stdout",
          "text": [
            "\n",
            "Here is a list of the Python keywords.  Enter any keyword to get more help.\n",
            "\n",
            "False               class               from                or\n",
            "None                continue            global              pass\n",
            "True                def                 if                  raise\n",
            "and                 del                 import              return\n",
            "as                  elif                in                  try\n",
            "assert              else                is                  while\n",
            "async               except              lambda              with\n",
            "await               finally             nonlocal            yield\n",
            "break               for                 not                 \n",
            "\n",
            "None\n"
          ]
        }
      ]
    },
    {
      "cell_type": "code",
      "source": [
        "#4.Write a program that checks if a given word is a Python keyword.\n",
        "a=\"await\"\n",
        "keywords = {\n",
        "    'False', 'None', 'True', 'and', 'as', 'assert', 'async', 'await', 'break', 'class', 'continue',\n",
        "    'def', 'del', 'elif', 'else', 'except', 'finally', 'for', 'from', 'global', 'if', 'import', 'in',\n",
        "    'is', 'lambda', 'match', 'nonlocal', 'not', 'or', 'pass', 'raise', 'return', 'try', 'while', 'with', 'yield'\n",
        "}\n",
        "if a in keywords:\n",
        "    print(f\"{a} is a keyword\" )\n",
        "else:\n",
        "    print(f\"{a} is no a keyword\")\n",
        "\n"
      ],
      "metadata": {
        "colab": {
          "base_uri": "https://localhost:8080/"
        },
        "id": "T09jNRabVb6k",
        "outputId": "b5e84bcb-a5f3-4a7e-89d1-4e7f3039edf3"
      },
      "execution_count": null,
      "outputs": [
        {
          "output_type": "stream",
          "name": "stdout",
          "text": [
            "await is a keyword\n"
          ]
        }
      ]
    },
    {
      "cell_type": "code",
      "source": [
        "#5.Create a list and tuple in Python, and demonstrate how attempting to change an element works differently for each.\n",
        "my_list=[1,2,3,4]\n",
        "print(\"my original list\",my_list)\n",
        "my_list[0]=11\n",
        "print(\"my updated list\",my_list)\n",
        "\n",
        "my_tuple=(1,2,3,4)\n",
        "print(\"my original tuple\",my_tuple)\n",
        "try:\n",
        "    my_tuple[0]=11\n",
        "except TypeError as e:\n",
        "    print(\"error\",e)\n",
        "print(\"my updated tuple\",my_tuple)\n",
        "\n"
      ],
      "metadata": {
        "colab": {
          "base_uri": "https://localhost:8080/"
        },
        "collapsed": true,
        "id": "J_48zEJPYY1P",
        "outputId": "e575f57f-e05e-48ec-cfad-a950aea26773"
      },
      "execution_count": null,
      "outputs": [
        {
          "output_type": "stream",
          "name": "stdout",
          "text": [
            "my original list [1, 2, 3, 4]\n",
            "my updated list [11, 2, 3, 4]\n",
            "my original tuple (1, 2, 3, 4)\n",
            "error 'tuple' object does not support item assignment\n",
            "my updated tuple (1, 2, 3, 4)\n"
          ]
        }
      ]
    },
    {
      "cell_type": "code",
      "source": [
        "#6.Write a function to demonstrate the behavior of mutable and immutable arguments.\n",
        "def demonstrate_mutable_immuatble(mymutable,immutable):\n",
        "  print(\"before modification\")\n",
        "  print(mymutable)\n",
        "  print(immutable)\n",
        "  mymutable.append(4)\n",
        "  print(\"after change mutable\",mymutable)\n",
        "  try:\n",
        "      immutable[0]=14\n",
        "  except TypeError as e:\n",
        "      print(\"error\",e)\n",
        "\n",
        "  print(\"after change immutable\",immutable)\n",
        "\n",
        "mymutable=[1,2,3,4]\n",
        "immutable=(1,2,3,4)\n",
        "demonstrate_mutable_immuatble(mymutable,immutable)"
      ],
      "metadata": {
        "colab": {
          "base_uri": "https://localhost:8080/"
        },
        "id": "IxUiELVpapMI",
        "outputId": "dc3faeda-67ad-436c-ef6f-2741eba97184"
      },
      "execution_count": null,
      "outputs": [
        {
          "output_type": "stream",
          "name": "stdout",
          "text": [
            "before modification\n",
            "[1, 2, 3, 4]\n",
            "(1, 2, 3, 4)\n",
            "after change mutable [1, 2, 3, 4, 4]\n",
            "error 'tuple' object does not support item assignment\n",
            "after change immutable (1, 2, 3, 4)\n"
          ]
        }
      ]
    },
    {
      "cell_type": "code",
      "source": [
        "#7.Write a program to demonstrate the use of logical operator\n",
        "age=18\n",
        "agreed_to_terms=False\n",
        "if age>=18 and agreed_to_terms:\n",
        "    print(\"access granted enjoy sir.\")\n",
        "else:\n",
        "    print(\"access denied sir\")\n",
        "\n",
        "if age<18 or not agreed_to_terms:\n",
        "    print(\"access denied sir.\")\n",
        "else:\n",
        "    print(\"access garnted enjoy sir.\")\n",
        "\n",
        "if not age>=18:\n",
        "  print(\"you are not eligible\")\n",
        "else:\n",
        "  print(\"you are eligible\")"
      ],
      "metadata": {
        "id": "02OG0uahmcy6",
        "colab": {
          "base_uri": "https://localhost:8080/"
        },
        "outputId": "ceb096af-7e70-4466-ecfb-7409bc490dd0"
      },
      "execution_count": 15,
      "outputs": [
        {
          "output_type": "stream",
          "name": "stdout",
          "text": [
            "access denied sir\n",
            "access denied sir.\n",
            "you are eligible\n"
          ]
        }
      ]
    },
    {
      "cell_type": "code",
      "source": [
        "#8.Write a Python program to convert user input from string to integer, float, and boolean types\n",
        "user_input=input(\"enter a value\")\n",
        "try:\n",
        "    integer=int(user_input)\n",
        "    print(integer)\n",
        "except ValueError:\n",
        "    print(\"invalid input\")\n",
        "try:\n",
        "    float_value=float(user_input)\n",
        "    print(float_value)\n",
        "except ValueError:\n",
        "    print(\"invalid input\")\n",
        "try:\n",
        "    boolean_value=bool(user_input)\n",
        "    print(boolean_value)\n",
        "except ValueError:\n",
        "    print(\"invalid input\")\n"
      ],
      "metadata": {
        "id": "tmw-7zFSlPIb",
        "colab": {
          "base_uri": "https://localhost:8080/"
        },
        "outputId": "9e1dfe89-dd38-43da-e278-1f9e521888bd"
      },
      "execution_count": 23,
      "outputs": [
        {
          "output_type": "stream",
          "name": "stdout",
          "text": [
            "enter a value12\n",
            "12\n",
            "12.0\n",
            "True\n"
          ]
        }
      ]
    },
    {
      "cell_type": "code",
      "source": [
        "#9.Write code to demonstrate type casting with list elements.\n",
        "my_list=[\"1\",\"2\",3,4]\n",
        "my_list2=[int (i) for i in my_list]\n",
        "print(my_list2)\n",
        "my_list3=[str(i) for i in my_list]\n",
        "print(my_list3)\n",
        "my_list4=[float(i) for i in my_list]\n",
        "print(my_list4)\n",
        "my_list5=[bool(i) for i in my_list]\n",
        "print(my_list5)\n",
        "\n"
      ],
      "metadata": {
        "id": "E6hIFLzzmQ-I",
        "colab": {
          "base_uri": "https://localhost:8080/"
        },
        "outputId": "509305bc-18fb-4ebf-b82e-a844ce11f7fd"
      },
      "execution_count": 26,
      "outputs": [
        {
          "output_type": "stream",
          "name": "stdout",
          "text": [
            "[1, 2, 3, 4]\n",
            "['1', '2', '3', '4']\n",
            "[1.0, 2.0, 3.0, 4.0]\n",
            "[True, True, True, True]\n"
          ]
        }
      ]
    },
    {
      "cell_type": "code",
      "source": [
        "#10.write a program that checks if a number is positive, negative, or zero.\n",
        "a=int(input(\"enter a number\"))\n",
        "if a>0:\n",
        "  print(\"number is positive\")\n",
        "elif a<0:\n",
        "  print(\"number is negative\")\n",
        "else:\n",
        "  print(\"number is zero\")"
      ],
      "metadata": {
        "colab": {
          "base_uri": "https://localhost:8080/"
        },
        "id": "gYYSU6S46-fA",
        "outputId": "2253c1bb-df6b-464c-9a0d-9da18e9bb7a8"
      },
      "execution_count": 28,
      "outputs": [
        {
          "output_type": "stream",
          "name": "stdout",
          "text": [
            "enter a number4\n",
            "number is positive\n"
          ]
        }
      ]
    },
    {
      "cell_type": "code",
      "source": [
        "#11.Write a for loop to print numbers from 1 to 100.\n",
        "for i in range(1,101):\n",
        "  print(i)"
      ],
      "metadata": {
        "colab": {
          "base_uri": "https://localhost:8080/"
        },
        "id": "L9B_sOjt7bCa",
        "outputId": "1ba8ce36-a3c5-4347-972c-c9cf0ead33f9"
      },
      "execution_count": 39,
      "outputs": [
        {
          "output_type": "stream",
          "name": "stdout",
          "text": [
            "1\n",
            "2\n",
            "3\n",
            "4\n",
            "5\n",
            "6\n",
            "7\n",
            "8\n",
            "9\n",
            "10\n",
            "11\n",
            "12\n",
            "13\n",
            "14\n",
            "15\n",
            "16\n",
            "17\n",
            "18\n",
            "19\n",
            "20\n",
            "21\n",
            "22\n",
            "23\n",
            "24\n",
            "25\n",
            "26\n",
            "27\n",
            "28\n",
            "29\n",
            "30\n",
            "31\n",
            "32\n",
            "33\n",
            "34\n",
            "35\n",
            "36\n",
            "37\n",
            "38\n",
            "39\n",
            "40\n",
            "41\n",
            "42\n",
            "43\n",
            "44\n",
            "45\n",
            "46\n",
            "47\n",
            "48\n",
            "49\n",
            "50\n",
            "51\n",
            "52\n",
            "53\n",
            "54\n",
            "55\n",
            "56\n",
            "57\n",
            "58\n",
            "59\n",
            "60\n",
            "61\n",
            "62\n",
            "63\n",
            "64\n",
            "65\n",
            "66\n",
            "67\n",
            "68\n",
            "69\n",
            "70\n",
            "71\n",
            "72\n",
            "73\n",
            "74\n",
            "75\n",
            "76\n",
            "77\n",
            "78\n",
            "79\n",
            "80\n",
            "81\n",
            "82\n",
            "83\n",
            "84\n",
            "85\n",
            "86\n",
            "87\n",
            "88\n",
            "89\n",
            "90\n",
            "91\n",
            "92\n",
            "93\n",
            "94\n",
            "95\n",
            "96\n",
            "97\n",
            "98\n",
            "99\n",
            "100\n"
          ]
        }
      ]
    },
    {
      "cell_type": "code",
      "source": [
        "#12.Write a Python program to find the sum of all even numbers between 1 and 5.\n",
        "sum=0\n",
        "for i in range(1,6):\n",
        "  if i%2==0:\n",
        "     sum+=i\n",
        "print(sum)"
      ],
      "metadata": {
        "colab": {
          "base_uri": "https://localhost:8080/"
        },
        "id": "nRFOQY6T7i0L",
        "outputId": "11fbf11b-2d9b-454c-e0d4-6dcb5d4868fb"
      },
      "execution_count": 42,
      "outputs": [
        {
          "output_type": "stream",
          "name": "stdout",
          "text": [
            "6\n"
          ]
        }
      ]
    },
    {
      "cell_type": "code",
      "source": [
        "#13.write a program to reverse a string using while loop.\n",
        "string=\"rahul\"\n",
        "string2=\"\"\n",
        "mapin=len(string)-1\n",
        "while mapin>=0:\n",
        "  string2+=string[mapin]\n",
        "  mapin-=1\n",
        "print(string2)"
      ],
      "metadata": {
        "colab": {
          "base_uri": "https://localhost:8080/"
        },
        "id": "ECbqblqk899r",
        "outputId": "db3c3e14-ec3e-4337-d92a-a7345a1e3354"
      },
      "execution_count": 56,
      "outputs": [
        {
          "output_type": "stream",
          "name": "stdout",
          "text": [
            "luhar\n"
          ]
        }
      ]
    },
    {
      "cell_type": "code",
      "source": [
        "#14.Write a Python program to calculate the factorial of a number provided by the user using a while loop.\n",
        "number=4\n",
        "factorial=1\n",
        "while number>0:\n",
        "    factorial*=number\n",
        "    number-=1\n",
        "print(factorial)"
      ],
      "metadata": {
        "colab": {
          "base_uri": "https://localhost:8080/"
        },
        "id": "Uqv8XkNhBik4",
        "outputId": "201407ab-01a0-4e4d-aa41-10588f71ef43"
      },
      "execution_count": 68,
      "outputs": [
        {
          "output_type": "stream",
          "name": "stdout",
          "text": [
            "24\n"
          ]
        }
      ]
    }
  ]
}